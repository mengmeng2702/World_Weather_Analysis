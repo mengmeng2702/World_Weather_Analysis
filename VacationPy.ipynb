{
 "cells": [
  {
   "cell_type": "code",
   "execution_count": 1,
   "metadata": {},
   "outputs": [],
   "source": [
    "#import dependencies\n",
    "import pandas as pd\n",
    "import gmaps\n",
    "import requests\n",
    "#import the API key\n",
    "from config import g_key\n"
   ]
  },
  {
   "cell_type": "code",
   "execution_count": 2,
   "metadata": {},
   "outputs": [
    {
     "output_type": "execute_result",
     "data": {
      "text/plain": [
       "   City_ID            City      Lat       Lng  Max Temp  Humidity  Cloudiness  \\\n",
       "0        0           Tiksi  71.6872  128.8694     -1.03        93         100   \n",
       "1        1         Ushuaia -54.8000  -68.3000     55.40        76          75   \n",
       "2        2       Caravelas -17.7125  -39.2481     77.86        80          99   \n",
       "3        3          Kodiak  57.7900 -152.4072     30.20        93          90   \n",
       "4        4  Port Elizabeth -33.9180   25.5701     68.00        88          40   \n",
       "\n",
       "   Wind Speed Country                 Date  \n",
       "0       14.79      RU  2021-02-02 21:57:41  \n",
       "1        6.91      AR  2021-02-02 21:56:19  \n",
       "2        7.34      BR  2021-02-02 21:57:50  \n",
       "3       15.95      US  2021-02-02 21:57:50  \n",
       "4        3.44      ZA  2021-02-02 21:57:50  "
      ],
      "text/html": "<div>\n<style scoped>\n    .dataframe tbody tr th:only-of-type {\n        vertical-align: middle;\n    }\n\n    .dataframe tbody tr th {\n        vertical-align: top;\n    }\n\n    .dataframe thead th {\n        text-align: right;\n    }\n</style>\n<table border=\"1\" class=\"dataframe\">\n  <thead>\n    <tr style=\"text-align: right;\">\n      <th></th>\n      <th>City_ID</th>\n      <th>City</th>\n      <th>Lat</th>\n      <th>Lng</th>\n      <th>Max Temp</th>\n      <th>Humidity</th>\n      <th>Cloudiness</th>\n      <th>Wind Speed</th>\n      <th>Country</th>\n      <th>Date</th>\n    </tr>\n  </thead>\n  <tbody>\n    <tr>\n      <th>0</th>\n      <td>0</td>\n      <td>Tiksi</td>\n      <td>71.6872</td>\n      <td>128.8694</td>\n      <td>-1.03</td>\n      <td>93</td>\n      <td>100</td>\n      <td>14.79</td>\n      <td>RU</td>\n      <td>2021-02-02 21:57:41</td>\n    </tr>\n    <tr>\n      <th>1</th>\n      <td>1</td>\n      <td>Ushuaia</td>\n      <td>-54.8000</td>\n      <td>-68.3000</td>\n      <td>55.40</td>\n      <td>76</td>\n      <td>75</td>\n      <td>6.91</td>\n      <td>AR</td>\n      <td>2021-02-02 21:56:19</td>\n    </tr>\n    <tr>\n      <th>2</th>\n      <td>2</td>\n      <td>Caravelas</td>\n      <td>-17.7125</td>\n      <td>-39.2481</td>\n      <td>77.86</td>\n      <td>80</td>\n      <td>99</td>\n      <td>7.34</td>\n      <td>BR</td>\n      <td>2021-02-02 21:57:50</td>\n    </tr>\n    <tr>\n      <th>3</th>\n      <td>3</td>\n      <td>Kodiak</td>\n      <td>57.7900</td>\n      <td>-152.4072</td>\n      <td>30.20</td>\n      <td>93</td>\n      <td>90</td>\n      <td>15.95</td>\n      <td>US</td>\n      <td>2021-02-02 21:57:50</td>\n    </tr>\n    <tr>\n      <th>4</th>\n      <td>4</td>\n      <td>Port Elizabeth</td>\n      <td>-33.9180</td>\n      <td>25.5701</td>\n      <td>68.00</td>\n      <td>88</td>\n      <td>40</td>\n      <td>3.44</td>\n      <td>ZA</td>\n      <td>2021-02-02 21:57:50</td>\n    </tr>\n  </tbody>\n</table>\n</div>"
     },
     "metadata": {},
     "execution_count": 2
    }
   ],
   "source": [
    "#store the csv you created in part one into a dataframe\n",
    "city_data_df = pd.read_csv(\"weather_data/cities.csv\")\n",
    "city_data_df.head()"
   ]
  },
  {
   "cell_type": "code",
   "execution_count": 3,
   "metadata": {},
   "outputs": [
    {
     "output_type": "execute_result",
     "data": {
      "text/plain": [
       "City_ID         int64\n",
       "City           object\n",
       "Lat           float64\n",
       "Lng           float64\n",
       "Max Temp      float64\n",
       "Humidity        int64\n",
       "Cloudiness      int64\n",
       "Wind Speed    float64\n",
       "Country        object\n",
       "Date           object\n",
       "dtype: object"
      ]
     },
     "metadata": {},
     "execution_count": 3
    }
   ],
   "source": [
    "#get the data types\n",
    "city_data_df.dtypes"
   ]
  },
  {
   "cell_type": "code",
   "execution_count": 4,
   "metadata": {},
   "outputs": [],
   "source": [
    "#configure gmaps to use your google api key\n",
    "gmaps.configure(api_key=g_key)"
   ]
  },
  {
   "cell_type": "code",
   "execution_count": 5,
   "metadata": {},
   "outputs": [
    {
     "output_type": "display_data",
     "data": {
      "text/plain": "Figure(layout=FigureLayout(height='420px'))",
      "application/vnd.jupyter.widget-view+json": {
       "version_major": 2,
       "version_minor": 0,
       "model_id": "7b6c65cbf3064eb28fc6f7968e5f7f60"
      }
     },
     "metadata": {}
    }
   ],
   "source": [
    "#heatmap of temperature\n",
    "#get the latitude and longitude\n",
    "locations = city_data_df[[\"Lat\",\"Lng\"]]\n",
    "#get the max temperature\n",
    "max_temp = city_data_df[\"Max Temp\"]\n",
    "#assign the figure variable\n",
    "fig = gmaps.figure(center = (30.0,31.0), zoom_level=1.5)\n",
    "#assign the heatmap variable\n",
    "heat_layer = gmaps.heatmap_layer(locations, weights=[max(temp,0) for temp in max_temp], dissipating = False, max_intensity = 300, point_radius = 4)\n",
    "#add the heatmap layer\n",
    "fig.add_layer(heat_layer)\n",
    "#call the figure to plot the data\n",
    "fig"
   ]
  },
  {
   "cell_type": "code",
   "execution_count": 6,
   "metadata": {},
   "outputs": [
    {
     "output_type": "display_data",
     "data": {
      "text/plain": "Figure(layout=FigureLayout(height='420px'))",
      "application/vnd.jupyter.widget-view+json": {
       "version_major": 2,
       "version_minor": 0,
       "model_id": "a87cddbff6dc4378af4c3f503c0f38bf"
      }
     },
     "metadata": {}
    }
   ],
   "source": [
    "#heatmap of percent humidity\n",
    "locations = city_data_df[[\"Lat\",\"Lng\"]]\n",
    "humidity = city_data_df[\"Humidity\"]\n",
    "fig = gmaps.figure(center = (30.0, 31.0), zoom_level=1.5)\n",
    "heat_layer = gmaps.heatmap_layer(locations, weights=humidity, dissipating=False, max_intensity = 300, point_radius=4)\n",
    "\n",
    "fig.add_layer(heat_layer)\n",
    "fig"
   ]
  },
  {
   "cell_type": "code",
   "execution_count": 7,
   "metadata": {},
   "outputs": [
    {
     "output_type": "display_data",
     "data": {
      "text/plain": "Figure(layout=FigureLayout(height='420px'))",
      "application/vnd.jupyter.widget-view+json": {
       "version_major": 2,
       "version_minor": 0,
       "model_id": "0915a4f59b66485e852117b4245e3047"
      }
     },
     "metadata": {}
    }
   ],
   "source": [
    "# Heatmap of percent cloudiness\n",
    "locations = city_data_df[[\"Lat\", \"Lng\"]]\n",
    "clouds = city_data_df[\"Cloudiness\"] \n",
    "fig = gmaps.figure(center=(30.0, 31.0), zoom_level=1.5)\n",
    "heat_layer = gmaps.heatmap_layer(locations, weights = clouds, dissipating=False, max_intensity=300, point_radius=4)\n",
    "\n",
    "fig.add_layer(heat_layer)\n",
    "# Call the figure to plot the data.\n",
    "fig"
   ]
  },
  {
   "cell_type": "code",
   "execution_count": 8,
   "metadata": {},
   "outputs": [
    {
     "output_type": "display_data",
     "data": {
      "text/plain": "Figure(layout=FigureLayout(height='420px'))",
      "application/vnd.jupyter.widget-view+json": {
       "version_major": 2,
       "version_minor": 0,
       "model_id": "2f376ec6c57642028f0c840ffc71ff64"
      }
     },
     "metadata": {}
    }
   ],
   "source": [
    "# Heatmap of wind speed\n",
    "locations = city_data_df[[\"Lat\", \"Lng\"]]\n",
    "wind = city_data_df[\"Wind Speed\"] \n",
    "fig = gmaps.figure(center=(30.0, 31.0), zoom_level=1.5)\n",
    "heat_layer = gmaps.heatmap_layer(locations, weights = wind, dissipating=False, max_intensity=300, point_radius=4)\n",
    "\n",
    "fig.add_layer(heat_layer)\n",
    "# Call the figure to plot the data.\n",
    "fig"
   ]
  },
  {
   "cell_type": "code",
   "execution_count": 9,
   "metadata": {},
   "outputs": [],
   "source": [
    "# Ask the customer to add a minimum and maximum temperature value.\n",
    "min_temp = float(input(\"What is the minimum temperature you would like for your trip? \"))\n",
    "max_temp = float(input(\"What is the maximum temperature you would like for your trip? \"))"
   ]
  },
  {
   "cell_type": "code",
   "execution_count": 10,
   "metadata": {},
   "outputs": [
    {
     "output_type": "execute_result",
     "data": {
      "text/plain": [
       "   City_ID            City      Lat       Lng  Max Temp  Humidity  Cloudiness  \\\n",
       "1        1         Ushuaia -54.8000  -68.3000     55.40        76          75   \n",
       "2        2       Caravelas -17.7125  -39.2481     77.86        80          99   \n",
       "4        4  Port Elizabeth -33.9180   25.5701     68.00        88          40   \n",
       "5        5          Lompoc  34.6391 -120.4579     61.00        82           1   \n",
       "6        6         Mataura -46.1927  168.8643     64.17        71          99   \n",
       "\n",
       "   Wind Speed Country                 Date  \n",
       "1        6.91      AR  2021-02-02 21:56:19  \n",
       "2        7.34      BR  2021-02-02 21:57:50  \n",
       "4        3.44      ZA  2021-02-02 21:57:50  \n",
       "5       16.11      US  2021-02-02 21:57:50  \n",
       "6        3.87      NZ  2021-02-02 21:57:51  "
      ],
      "text/html": "<div>\n<style scoped>\n    .dataframe tbody tr th:only-of-type {\n        vertical-align: middle;\n    }\n\n    .dataframe tbody tr th {\n        vertical-align: top;\n    }\n\n    .dataframe thead th {\n        text-align: right;\n    }\n</style>\n<table border=\"1\" class=\"dataframe\">\n  <thead>\n    <tr style=\"text-align: right;\">\n      <th></th>\n      <th>City_ID</th>\n      <th>City</th>\n      <th>Lat</th>\n      <th>Lng</th>\n      <th>Max Temp</th>\n      <th>Humidity</th>\n      <th>Cloudiness</th>\n      <th>Wind Speed</th>\n      <th>Country</th>\n      <th>Date</th>\n    </tr>\n  </thead>\n  <tbody>\n    <tr>\n      <th>1</th>\n      <td>1</td>\n      <td>Ushuaia</td>\n      <td>-54.8000</td>\n      <td>-68.3000</td>\n      <td>55.40</td>\n      <td>76</td>\n      <td>75</td>\n      <td>6.91</td>\n      <td>AR</td>\n      <td>2021-02-02 21:56:19</td>\n    </tr>\n    <tr>\n      <th>2</th>\n      <td>2</td>\n      <td>Caravelas</td>\n      <td>-17.7125</td>\n      <td>-39.2481</td>\n      <td>77.86</td>\n      <td>80</td>\n      <td>99</td>\n      <td>7.34</td>\n      <td>BR</td>\n      <td>2021-02-02 21:57:50</td>\n    </tr>\n    <tr>\n      <th>4</th>\n      <td>4</td>\n      <td>Port Elizabeth</td>\n      <td>-33.9180</td>\n      <td>25.5701</td>\n      <td>68.00</td>\n      <td>88</td>\n      <td>40</td>\n      <td>3.44</td>\n      <td>ZA</td>\n      <td>2021-02-02 21:57:50</td>\n    </tr>\n    <tr>\n      <th>5</th>\n      <td>5</td>\n      <td>Lompoc</td>\n      <td>34.6391</td>\n      <td>-120.4579</td>\n      <td>61.00</td>\n      <td>82</td>\n      <td>1</td>\n      <td>16.11</td>\n      <td>US</td>\n      <td>2021-02-02 21:57:50</td>\n    </tr>\n    <tr>\n      <th>6</th>\n      <td>6</td>\n      <td>Mataura</td>\n      <td>-46.1927</td>\n      <td>168.8643</td>\n      <td>64.17</td>\n      <td>71</td>\n      <td>99</td>\n      <td>3.87</td>\n      <td>NZ</td>\n      <td>2021-02-02 21:57:51</td>\n    </tr>\n  </tbody>\n</table>\n</div>"
     },
     "metadata": {},
     "execution_count": 10
    }
   ],
   "source": [
    "#filter the dataset to the cities that fit the criteria\n",
    "perferred_cities_df = city_data_df.loc[(city_data_df[\"Max Temp\"] <= max_temp) & (city_data_df[\"Max Temp\"] >= min_temp)]\n",
    "perferred_cities_df.head()"
   ]
  },
  {
   "cell_type": "code",
   "execution_count": 11,
   "metadata": {},
   "outputs": [
    {
     "output_type": "execute_result",
     "data": {
      "text/plain": [
       "City_ID       350\n",
       "City          350\n",
       "Lat           350\n",
       "Lng           350\n",
       "Max Temp      350\n",
       "Humidity      350\n",
       "Cloudiness    350\n",
       "Wind Speed    350\n",
       "Country       347\n",
       "Date          350\n",
       "dtype: int64"
      ]
     },
     "metadata": {},
     "execution_count": 11
    }
   ],
   "source": [
    "perferred_cities_df.count()"
   ]
  },
  {
   "cell_type": "code",
   "execution_count": 26,
   "metadata": {},
   "outputs": [
    {
     "output_type": "execute_result",
     "data": {
      "text/plain": [
       "City_ID       347\n",
       "City          347\n",
       "Lat           347\n",
       "Lng           347\n",
       "Max Temp      347\n",
       "Humidity      347\n",
       "Cloudiness    347\n",
       "Wind Speed    347\n",
       "Country       347\n",
       "Date          347\n",
       "dtype: int64"
      ]
     },
     "metadata": {},
     "execution_count": 26
    }
   ],
   "source": [
    "perferred_cities_df.isnull().sum()\n",
    "perferred_cities_df = perferred_cities_df.dropna()\n",
    "perferred_cities_df.count()"
   ]
  },
  {
   "cell_type": "code",
   "execution_count": 12,
   "metadata": {},
   "outputs": [
    {
     "output_type": "execute_result",
     "data": {
      "text/plain": [
       "             City Country  Max Temp      Lat       Lng Hotel Name\n",
       "1         Ushuaia      AR     55.40 -54.8000  -68.3000           \n",
       "2       Caravelas      BR     77.86 -17.7125  -39.2481           \n",
       "4  Port Elizabeth      ZA     68.00 -33.9180   25.5701           \n",
       "5          Lompoc      US     61.00  34.6391 -120.4579           \n",
       "6         Mataura      NZ     64.17 -46.1927  168.8643           "
      ],
      "text/html": "<div>\n<style scoped>\n    .dataframe tbody tr th:only-of-type {\n        vertical-align: middle;\n    }\n\n    .dataframe tbody tr th {\n        vertical-align: top;\n    }\n\n    .dataframe thead th {\n        text-align: right;\n    }\n</style>\n<table border=\"1\" class=\"dataframe\">\n  <thead>\n    <tr style=\"text-align: right;\">\n      <th></th>\n      <th>City</th>\n      <th>Country</th>\n      <th>Max Temp</th>\n      <th>Lat</th>\n      <th>Lng</th>\n      <th>Hotel Name</th>\n    </tr>\n  </thead>\n  <tbody>\n    <tr>\n      <th>1</th>\n      <td>Ushuaia</td>\n      <td>AR</td>\n      <td>55.40</td>\n      <td>-54.8000</td>\n      <td>-68.3000</td>\n      <td></td>\n    </tr>\n    <tr>\n      <th>2</th>\n      <td>Caravelas</td>\n      <td>BR</td>\n      <td>77.86</td>\n      <td>-17.7125</td>\n      <td>-39.2481</td>\n      <td></td>\n    </tr>\n    <tr>\n      <th>4</th>\n      <td>Port Elizabeth</td>\n      <td>ZA</td>\n      <td>68.00</td>\n      <td>-33.9180</td>\n      <td>25.5701</td>\n      <td></td>\n    </tr>\n    <tr>\n      <th>5</th>\n      <td>Lompoc</td>\n      <td>US</td>\n      <td>61.00</td>\n      <td>34.6391</td>\n      <td>-120.4579</td>\n      <td></td>\n    </tr>\n    <tr>\n      <th>6</th>\n      <td>Mataura</td>\n      <td>NZ</td>\n      <td>64.17</td>\n      <td>-46.1927</td>\n      <td>168.8643</td>\n      <td></td>\n    </tr>\n  </tbody>\n</table>\n</div>"
     },
     "metadata": {},
     "execution_count": 12
    }
   ],
   "source": [
    "#create dataframe called hotel_df to store hotel names along with the city, country, max, temp, and coordinates\n",
    "hotel_df = perferred_cities_df[[\"City\",\"Country\",\"Max Temp\",\"Lat\",\"Lng\"]].copy()\n",
    "hotel_df[\"Hotel Name\"] = \"\"\n",
    "hotel_df.head()"
   ]
  },
  {
   "cell_type": "code",
   "execution_count": 13,
   "metadata": {},
   "outputs": [],
   "source": [
    "#set parameters to search for a hotel\n",
    "params = {\n",
    "    \"radius\" : 5000,\n",
    "    \"type\" : \"lodging\",\n",
    "    \"key\" : g_key\n",
    "}"
   ]
  },
  {
   "cell_type": "code",
   "execution_count": 14,
   "metadata": {},
   "outputs": [
    {
     "output_type": "stream",
     "name": "stdout",
     "text": [
      "Hotel not found... skipping.\n",
      "Hotel not found... skipping.\n",
      "Hotel not found... skipping.\n",
      "Hotel not found... skipping.\n",
      "Hotel not found... skipping.\n",
      "Hotel not found... skipping.\n",
      "Hotel not found... skipping.\n",
      "Hotel not found... skipping.\n",
      "Hotel not found... skipping.\n",
      "Hotel not found... skipping.\n",
      "Hotel not found... skipping.\n",
      "Hotel not found... skipping.\n",
      "Hotel not found... skipping.\n",
      "Hotel not found... skipping.\n",
      "Hotel not found... skipping.\n",
      "Hotel not found... skipping.\n",
      "Hotel not found... skipping.\n",
      "Hotel not found... skipping.\n",
      "Hotel not found... skipping.\n",
      "Hotel not found... skipping.\n",
      "Hotel not found... skipping.\n",
      "Hotel not found... skipping.\n",
      "Hotel not found... skipping.\n",
      "Hotel not found... skipping.\n",
      "Hotel not found... skipping.\n",
      "Hotel not found... skipping.\n"
     ]
    }
   ],
   "source": [
    "#iterate thru the dataframe\n",
    "for index, row in hotel_df.iterrows():\n",
    "\n",
    "    #get the latitude and longitude\n",
    "    lat = row[\"Lat\"]\n",
    "    lng = row[\"Lng\"]\n",
    "\n",
    "    #add the latitude and longitude to location key for the params dictionary. \n",
    "    params[\"location\"] = f\"{lat},{lng}\"\n",
    "\n",
    "    #use the search term: \"lodging\" and out latitude and longitude\n",
    "    base_url = \"https://maps.googleapis.com/maps/api/place/textsearch/json\"\n",
    "    #make requests and get the json data from the search\n",
    "    hotels = requests.get(base_url, params).json()\n",
    "    \n",
    "    #grab the first hotel from the results and stroe the name\n",
    "    try:\n",
    "        hotel_df.loc[index, \"Hotel Name\"] = hotels[\"results\"][0][\"name\"]\n",
    "    except(IndexError):\n",
    "        print(\"Hotel not found... skipping.\")"
   ]
  },
  {
   "cell_type": "code",
   "execution_count": 15,
   "metadata": {},
   "outputs": [
    {
     "output_type": "execute_result",
     "data": {
      "text/plain": [
       "              City Country  Max Temp      Lat       Lng  \\\n",
       "1          Ushuaia      AR     55.40 -54.8000  -68.3000   \n",
       "2        Caravelas      BR     77.86 -17.7125  -39.2481   \n",
       "4   Port Elizabeth      ZA     68.00 -33.9180   25.5701   \n",
       "5           Lompoc      US     61.00  34.6391 -120.4579   \n",
       "6          Mataura      NZ     64.17 -46.1927  168.8643   \n",
       "8        Mahebourg      MU     80.60 -20.4081   57.7000   \n",
       "9         Sai Buri      TH     74.66   6.7013  101.6168   \n",
       "10        Monterey      US     55.99  36.2505 -121.2516   \n",
       "11            Fare      PF     81.30 -16.7000 -151.0167   \n",
       "12          Ghanzi      BW     69.89 -21.5667   21.7833   \n",
       "13          Mackay      AU     80.01 -21.1500  149.2000   \n",
       "15     Port Alfred      ZA     66.00 -33.5906   26.8910   \n",
       "18           Kapaa      US     77.00  22.0752 -159.3190   \n",
       "19      Butaritari      KI     81.77   3.0707  172.7902   \n",
       "22        Rockport      US     68.00  28.0206  -97.0544   \n",
       "\n",
       "                                          Hotel Name  \n",
       "1                                     Albatros Hotel  \n",
       "2                             Pousada dos Navegantes  \n",
       "4                             39 On Nile Guest House  \n",
       "5                         Holiday Inn Express Lompoc  \n",
       "6                                      Ellie's Villa  \n",
       "8                 Shandrani Beachcomber Resort & Spa  \n",
       "9                                      ร้าน​ เวดดิ้ง  \n",
       "10                                                    \n",
       "11                     Maitai Lapita Village Huahine  \n",
       "12                                  Ghanzi Farmhouse  \n",
       "13                         International Lodge Motel  \n",
       "15                                The Halyards Hotel  \n",
       "18            Sheraton Kauai Resort at Coconut Beach  \n",
       "19                                Isles Sunset Lodge  \n",
       "22  Holiday Inn Express & Suites Rockport - Bay View  "
      ],
      "text/html": "<div>\n<style scoped>\n    .dataframe tbody tr th:only-of-type {\n        vertical-align: middle;\n    }\n\n    .dataframe tbody tr th {\n        vertical-align: top;\n    }\n\n    .dataframe thead th {\n        text-align: right;\n    }\n</style>\n<table border=\"1\" class=\"dataframe\">\n  <thead>\n    <tr style=\"text-align: right;\">\n      <th></th>\n      <th>City</th>\n      <th>Country</th>\n      <th>Max Temp</th>\n      <th>Lat</th>\n      <th>Lng</th>\n      <th>Hotel Name</th>\n    </tr>\n  </thead>\n  <tbody>\n    <tr>\n      <th>1</th>\n      <td>Ushuaia</td>\n      <td>AR</td>\n      <td>55.40</td>\n      <td>-54.8000</td>\n      <td>-68.3000</td>\n      <td>Albatros Hotel</td>\n    </tr>\n    <tr>\n      <th>2</th>\n      <td>Caravelas</td>\n      <td>BR</td>\n      <td>77.86</td>\n      <td>-17.7125</td>\n      <td>-39.2481</td>\n      <td>Pousada dos Navegantes</td>\n    </tr>\n    <tr>\n      <th>4</th>\n      <td>Port Elizabeth</td>\n      <td>ZA</td>\n      <td>68.00</td>\n      <td>-33.9180</td>\n      <td>25.5701</td>\n      <td>39 On Nile Guest House</td>\n    </tr>\n    <tr>\n      <th>5</th>\n      <td>Lompoc</td>\n      <td>US</td>\n      <td>61.00</td>\n      <td>34.6391</td>\n      <td>-120.4579</td>\n      <td>Holiday Inn Express Lompoc</td>\n    </tr>\n    <tr>\n      <th>6</th>\n      <td>Mataura</td>\n      <td>NZ</td>\n      <td>64.17</td>\n      <td>-46.1927</td>\n      <td>168.8643</td>\n      <td>Ellie's Villa</td>\n    </tr>\n    <tr>\n      <th>8</th>\n      <td>Mahebourg</td>\n      <td>MU</td>\n      <td>80.60</td>\n      <td>-20.4081</td>\n      <td>57.7000</td>\n      <td>Shandrani Beachcomber Resort &amp; Spa</td>\n    </tr>\n    <tr>\n      <th>9</th>\n      <td>Sai Buri</td>\n      <td>TH</td>\n      <td>74.66</td>\n      <td>6.7013</td>\n      <td>101.6168</td>\n      <td>ร้าน​ เวดดิ้ง</td>\n    </tr>\n    <tr>\n      <th>10</th>\n      <td>Monterey</td>\n      <td>US</td>\n      <td>55.99</td>\n      <td>36.2505</td>\n      <td>-121.2516</td>\n      <td></td>\n    </tr>\n    <tr>\n      <th>11</th>\n      <td>Fare</td>\n      <td>PF</td>\n      <td>81.30</td>\n      <td>-16.7000</td>\n      <td>-151.0167</td>\n      <td>Maitai Lapita Village Huahine</td>\n    </tr>\n    <tr>\n      <th>12</th>\n      <td>Ghanzi</td>\n      <td>BW</td>\n      <td>69.89</td>\n      <td>-21.5667</td>\n      <td>21.7833</td>\n      <td>Ghanzi Farmhouse</td>\n    </tr>\n    <tr>\n      <th>13</th>\n      <td>Mackay</td>\n      <td>AU</td>\n      <td>80.01</td>\n      <td>-21.1500</td>\n      <td>149.2000</td>\n      <td>International Lodge Motel</td>\n    </tr>\n    <tr>\n      <th>15</th>\n      <td>Port Alfred</td>\n      <td>ZA</td>\n      <td>66.00</td>\n      <td>-33.5906</td>\n      <td>26.8910</td>\n      <td>The Halyards Hotel</td>\n    </tr>\n    <tr>\n      <th>18</th>\n      <td>Kapaa</td>\n      <td>US</td>\n      <td>77.00</td>\n      <td>22.0752</td>\n      <td>-159.3190</td>\n      <td>Sheraton Kauai Resort at Coconut Beach</td>\n    </tr>\n    <tr>\n      <th>19</th>\n      <td>Butaritari</td>\n      <td>KI</td>\n      <td>81.77</td>\n      <td>3.0707</td>\n      <td>172.7902</td>\n      <td>Isles Sunset Lodge</td>\n    </tr>\n    <tr>\n      <th>22</th>\n      <td>Rockport</td>\n      <td>US</td>\n      <td>68.00</td>\n      <td>28.0206</td>\n      <td>-97.0544</td>\n      <td>Holiday Inn Express &amp; Suites Rockport - Bay View</td>\n    </tr>\n  </tbody>\n</table>\n</div>"
     },
     "metadata": {},
     "execution_count": 15
    }
   ],
   "source": [
    "hotel_df.head(15)"
   ]
  },
  {
   "cell_type": "code",
   "execution_count": 27,
   "metadata": {},
   "outputs": [
    {
     "output_type": "display_data",
     "data": {
      "text/plain": "Figure(layout=FigureLayout(height='420px'))",
      "application/vnd.jupyter.widget-view+json": {
       "version_major": 2,
       "version_minor": 0,
       "model_id": "e954e3a345564fd6bce4970c6456c94f"
      }
     },
     "metadata": {}
    }
   ],
   "source": [
    "#add a heatmp of temp for the vacation spots\n",
    "locations = hotel_df[[\"Lat\",\"Lng\"]]\n",
    "max_temp = hotel_df[\"Max Temp\"]\n",
    "fig = gmaps.figure(center=(30.0,31.0), zoom_level = 1.5)\n",
    "heat_layer = gmaps.heatmap_layer(locations, weights=max_temp, dissipating=False, max_intensity=300, point_radius=4)\n",
    "\n",
    "fig.add_layer(heat_layer)\n",
    "#call the figure to plot the data\n",
    "fig"
   ]
  },
  {
   "cell_type": "code",
   "execution_count": 28,
   "metadata": {},
   "outputs": [
    {
     "output_type": "display_data",
     "data": {
      "text/plain": "Figure(layout=FigureLayout(height='420px'))",
      "application/vnd.jupyter.widget-view+json": {
       "version_major": 2,
       "version_minor": 0,
       "model_id": "ae1456fa173b487d82d66dd1712d440d"
      }
     },
     "metadata": {}
    }
   ],
   "source": [
    "# add a heatmp of temp for the vacation spots and marker for each city\n",
    "# Add a heatmap of temperature for the vacation spots and marker for each city.\n",
    "locations = hotel_df[[\"Lat\", \"Lng\"]]\n",
    "max_temp = hotel_df[\"Max Temp\"]\n",
    "fig = gmaps.figure(center=(30.0, 31.0), zoom_level=1.5)\n",
    "heat_layer = gmaps.heatmap_layer(locations, weights=max_temp,\n",
    "             dissipating=False, max_intensity=300, point_radius=4)\n",
    "marker_layer = gmaps.marker_layer(locations)\n",
    "fig.add_layer(heat_layer)\n",
    "fig.add_layer(marker_layer)\n",
    "# Call the figure to plot the data.\n",
    "fig"
   ]
  },
  {
   "cell_type": "code",
   "execution_count": 29,
   "metadata": {},
   "outputs": [],
   "source": [
    "info_box_template = \"\"\"\n",
    "<dl>\n",
    "<dt>Hotel Name</dt><dd>{Hotel Name}</dd>\n",
    "<dt>City</dt><dd>{City}</dd>\n",
    "<dt>Country</dt><dd>{Country}</dd>\n",
    "<dt>Max Temp</dt><dd>{Max Temp} °F</dd>\n",
    "</dl>\n",
    "\"\"\"\n",
    "# Store the DataFrame Row.\n",
    "hotel_info = [info_box_template.format(**row) for index, row in hotel_df.iterrows()]"
   ]
  },
  {
   "cell_type": "code",
   "execution_count": 30,
   "metadata": {},
   "outputs": [
    {
     "output_type": "display_data",
     "data": {
      "text/plain": "Figure(layout=FigureLayout(height='420px'))",
      "application/vnd.jupyter.widget-view+json": {
       "version_major": 2,
       "version_minor": 0,
       "model_id": "845b0280ad5546d695bd69af62cf298f"
      }
     },
     "metadata": {}
    }
   ],
   "source": [
    "# Add a heatmap of temperature for the vacation spots and a pop-up marker for each city.\n",
    "locations = hotel_df[[\"Lat\", \"Lng\"]]\n",
    "max_temp = hotel_df[\"Max Temp\"]\n",
    "fig = gmaps.figure(center=(30.0, 31.0), zoom_level=1.5)\n",
    "heat_layer = gmaps.heatmap_layer(locations, weights=max_temp,dissipating=False, max_intensity=300, point_radius=4)\n",
    "marker_layer = gmaps.marker_layer(locations,info_box_content=hotel_info)\n",
    "\n",
    "fig.add_layer(heat_layer)\n",
    "fig.add_layer(marker_layer)\n",
    "\n",
    "# Call the figure to plot the data.\n",
    "fig"
   ]
  },
  {
   "cell_type": "code",
   "execution_count": null,
   "metadata": {},
   "outputs": [],
   "source": []
  }
 ],
 "metadata": {
  "kernelspec": {
   "display_name": "PythonData",
   "language": "python",
   "name": "pythondata"
  },
  "language_info": {
   "codemirror_mode": {
    "name": "ipython",
    "version": 3
   },
   "file_extension": ".py",
   "mimetype": "text/x-python",
   "name": "python",
   "nbconvert_exporter": "python",
   "pygments_lexer": "ipython3",
   "version": "3.7.9-final"
  }
 },
 "nbformat": 4,
 "nbformat_minor": 4
}