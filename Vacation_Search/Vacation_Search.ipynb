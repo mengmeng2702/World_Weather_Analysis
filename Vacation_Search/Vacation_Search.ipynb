{
 "cells": [
  {
   "cell_type": "markdown",
   "metadata": {},
   "source": [
    "## Deliverable 2. Create a Customer Travel Destinations Map."
   ]
  },
  {
   "cell_type": "code",
   "execution_count": 1,
   "metadata": {},
   "outputs": [],
   "source": [
    "# Dependencies and Setup\n",
    "import pandas as pd\n",
    "import requests\n",
    "import gmaps\n",
    "import numpy as np\n",
    "# Import API key\n",
    "from config import g_key\n",
    "\n",
    "# Configure gmaps API key\n",
    "gmaps.configure(api_key=g_key)"
   ]
  },
  {
   "cell_type": "code",
   "execution_count": 2,
   "metadata": {},
   "outputs": [
    {
     "output_type": "execute_result",
     "data": {
      "text/plain": [
       "           City Country      Lat       Lng  Max Temp  Humidity  Cloudiness  \\\n",
       "0     Hithadhoo      MV  -0.6000   73.0833     27.96        78         100   \n",
       "1  Punta Arenas      CL -53.1500  -70.9167      9.00        61          75   \n",
       "2     Dharchula      IN  29.8500   80.5333     11.98        47          97   \n",
       "3        Albany      US  42.6001  -73.9662     -3.33        64          27   \n",
       "4   Kloulklubed      PW   7.0419  134.2556     30.00        70          75   \n",
       "\n",
       "   Wind Speed Current Description  \n",
       "0        5.35     overcast clouds  \n",
       "1        5.14       broken clouds  \n",
       "2        1.34     overcast clouds  \n",
       "3        1.19    scattered clouds  \n",
       "4        4.63       broken clouds  "
      ],
      "text/html": "<div>\n<style scoped>\n    .dataframe tbody tr th:only-of-type {\n        vertical-align: middle;\n    }\n\n    .dataframe tbody tr th {\n        vertical-align: top;\n    }\n\n    .dataframe thead th {\n        text-align: right;\n    }\n</style>\n<table border=\"1\" class=\"dataframe\">\n  <thead>\n    <tr style=\"text-align: right;\">\n      <th></th>\n      <th>City</th>\n      <th>Country</th>\n      <th>Lat</th>\n      <th>Lng</th>\n      <th>Max Temp</th>\n      <th>Humidity</th>\n      <th>Cloudiness</th>\n      <th>Wind Speed</th>\n      <th>Current Description</th>\n    </tr>\n  </thead>\n  <tbody>\n    <tr>\n      <th>0</th>\n      <td>Hithadhoo</td>\n      <td>MV</td>\n      <td>-0.6000</td>\n      <td>73.0833</td>\n      <td>27.96</td>\n      <td>78</td>\n      <td>100</td>\n      <td>5.35</td>\n      <td>overcast clouds</td>\n    </tr>\n    <tr>\n      <th>1</th>\n      <td>Punta Arenas</td>\n      <td>CL</td>\n      <td>-53.1500</td>\n      <td>-70.9167</td>\n      <td>9.00</td>\n      <td>61</td>\n      <td>75</td>\n      <td>5.14</td>\n      <td>broken clouds</td>\n    </tr>\n    <tr>\n      <th>2</th>\n      <td>Dharchula</td>\n      <td>IN</td>\n      <td>29.8500</td>\n      <td>80.5333</td>\n      <td>11.98</td>\n      <td>47</td>\n      <td>97</td>\n      <td>1.34</td>\n      <td>overcast clouds</td>\n    </tr>\n    <tr>\n      <th>3</th>\n      <td>Albany</td>\n      <td>US</td>\n      <td>42.6001</td>\n      <td>-73.9662</td>\n      <td>-3.33</td>\n      <td>64</td>\n      <td>27</td>\n      <td>1.19</td>\n      <td>scattered clouds</td>\n    </tr>\n    <tr>\n      <th>4</th>\n      <td>Kloulklubed</td>\n      <td>PW</td>\n      <td>7.0419</td>\n      <td>134.2556</td>\n      <td>30.00</td>\n      <td>70</td>\n      <td>75</td>\n      <td>4.63</td>\n      <td>broken clouds</td>\n    </tr>\n  </tbody>\n</table>\n</div>"
     },
     "metadata": {},
     "execution_count": 2
    }
   ],
   "source": [
    "# 1. Import the WeatherPy_database.csv file. \n",
    "city_data_df = pd.read_csv(\"../Weather_Database/WeatherPy_database.csv\")\n",
    "city_data_df.head()"
   ]
  },
  {
   "cell_type": "code",
   "execution_count": 3,
   "metadata": {},
   "outputs": [],
   "source": [
    "# 2. Prompt the user to enter minimum and maximum temperature criteria \n",
    "min_temp = float(input(\"What is your perferred minimum temperature for your desired vacation place? \"))\n",
    "max_temp = float(input(\"What is your perferred maximum temperature for your desired vacation place? \"))"
   ]
  },
  {
   "cell_type": "code",
   "execution_count": 5,
   "metadata": {},
   "outputs": [
    {
     "output_type": "execute_result",
     "data": {
      "text/plain": [
       "           City Country      Lat       Lng  Max Temp  Humidity  Cloudiness  \\\n",
       "0     Hithadhoo      MV  -0.6000   73.0833     27.96        78         100   \n",
       "4   Kloulklubed      PW   7.0419  134.2556     30.00        70          75   \n",
       "6    Georgetown      MY   5.4112  100.3354     31.00        54          20   \n",
       "8        Atuona      PF  -9.8000 -139.0333     25.98        74           3   \n",
       "12    Bathsheba      BB  13.2167  -59.5167     26.00        65          40   \n",
       "\n",
       "    Wind Speed Current Description  \n",
       "0         5.35     overcast clouds  \n",
       "4         4.63       broken clouds  \n",
       "6         1.54          few clouds  \n",
       "8         4.84           clear sky  \n",
       "12        8.23    scattered clouds  "
      ],
      "text/html": "<div>\n<style scoped>\n    .dataframe tbody tr th:only-of-type {\n        vertical-align: middle;\n    }\n\n    .dataframe tbody tr th {\n        vertical-align: top;\n    }\n\n    .dataframe thead th {\n        text-align: right;\n    }\n</style>\n<table border=\"1\" class=\"dataframe\">\n  <thead>\n    <tr style=\"text-align: right;\">\n      <th></th>\n      <th>City</th>\n      <th>Country</th>\n      <th>Lat</th>\n      <th>Lng</th>\n      <th>Max Temp</th>\n      <th>Humidity</th>\n      <th>Cloudiness</th>\n      <th>Wind Speed</th>\n      <th>Current Description</th>\n    </tr>\n  </thead>\n  <tbody>\n    <tr>\n      <th>0</th>\n      <td>Hithadhoo</td>\n      <td>MV</td>\n      <td>-0.6000</td>\n      <td>73.0833</td>\n      <td>27.96</td>\n      <td>78</td>\n      <td>100</td>\n      <td>5.35</td>\n      <td>overcast clouds</td>\n    </tr>\n    <tr>\n      <th>4</th>\n      <td>Kloulklubed</td>\n      <td>PW</td>\n      <td>7.0419</td>\n      <td>134.2556</td>\n      <td>30.00</td>\n      <td>70</td>\n      <td>75</td>\n      <td>4.63</td>\n      <td>broken clouds</td>\n    </tr>\n    <tr>\n      <th>6</th>\n      <td>Georgetown</td>\n      <td>MY</td>\n      <td>5.4112</td>\n      <td>100.3354</td>\n      <td>31.00</td>\n      <td>54</td>\n      <td>20</td>\n      <td>1.54</td>\n      <td>few clouds</td>\n    </tr>\n    <tr>\n      <th>8</th>\n      <td>Atuona</td>\n      <td>PF</td>\n      <td>-9.8000</td>\n      <td>-139.0333</td>\n      <td>25.98</td>\n      <td>74</td>\n      <td>3</td>\n      <td>4.84</td>\n      <td>clear sky</td>\n    </tr>\n    <tr>\n      <th>12</th>\n      <td>Bathsheba</td>\n      <td>BB</td>\n      <td>13.2167</td>\n      <td>-59.5167</td>\n      <td>26.00</td>\n      <td>65</td>\n      <td>40</td>\n      <td>8.23</td>\n      <td>scattered clouds</td>\n    </tr>\n  </tbody>\n</table>\n</div>"
     },
     "metadata": {},
     "execution_count": 5
    }
   ],
   "source": [
    "# 3. Filter the city_data_df DataFrame using the input statements to create a new DataFrame using the loc method.\n",
    "perferred_cities_df = city_data_df.loc[(city_data_df[\"Max Temp\"]>= min_temp) & (city_data_df[\"Max Temp\"]<= max_temp)]\n",
    "perferred_cities_df.head()"
   ]
  },
  {
   "cell_type": "code",
   "execution_count": 10,
   "metadata": {},
   "outputs": [
    {
     "output_type": "execute_result",
     "data": {
      "text/plain": [
       "City                   149\n",
       "Country                149\n",
       "Lat                    149\n",
       "Lng                    149\n",
       "Max Temp               149\n",
       "Humidity               149\n",
       "Cloudiness             149\n",
       "Wind Speed             149\n",
       "Current Description    149\n",
       "dtype: int64"
      ]
     },
     "metadata": {},
     "execution_count": 10
    }
   ],
   "source": [
    "# 4a. Determine if there are any empty rows.\n",
    "perferred_cities_df.isnull().sum()\n",
    "perferred_cities_df.count()"
   ]
  },
  {
   "cell_type": "code",
   "execution_count": 14,
   "metadata": {},
   "outputs": [
    {
     "output_type": "execute_result",
     "data": {
      "text/plain": [
       "City                   149\n",
       "Country                149\n",
       "Lat                    149\n",
       "Lng                    149\n",
       "Max Temp               149\n",
       "Humidity               149\n",
       "Cloudiness             149\n",
       "Wind Speed             149\n",
       "Current Description    149\n",
       "dtype: int64"
      ]
     },
     "metadata": {},
     "execution_count": 14
    }
   ],
   "source": [
    "# 4b. Drop any empty rows and create a new DataFrame that doesn’t have empty rows.\n",
    "clean_perferred_cities_df = perferred_cities_df.dropna()\n",
    "clean_perferred_cities_df.count()"
   ]
  },
  {
   "cell_type": "code",
   "execution_count": 15,
   "metadata": {},
   "outputs": [
    {
     "output_type": "execute_result",
     "data": {
      "text/plain": [
       "           City Country  Max Temp Current Description      Lat       Lng  \\\n",
       "0     Hithadhoo      MV     27.96     overcast clouds  -0.6000   73.0833   \n",
       "4   Kloulklubed      PW     30.00       broken clouds   7.0419  134.2556   \n",
       "6    Georgetown      MY     31.00          few clouds   5.4112  100.3354   \n",
       "8        Atuona      PF     25.98           clear sky  -9.8000 -139.0333   \n",
       "12    Bathsheba      BB     26.00    scattered clouds  13.2167  -59.5167   \n",
       "15     Souillac      MU     25.00    scattered clouds -20.5167   57.5167   \n",
       "16        Kathu      TH     29.00          few clouds   7.9178   98.3332   \n",
       "17       Neiafu      TO     27.00          light rain -18.6500 -173.9833   \n",
       "23       Avarua      CK     29.00          few clouds -21.2078 -159.7750   \n",
       "24   Butaritari      KI     27.13          light rain   3.0707  172.7902   \n",
       "\n",
       "    Hotel Name  \n",
       "0          NaN  \n",
       "4          NaN  \n",
       "6          NaN  \n",
       "8          NaN  \n",
       "12         NaN  \n",
       "15         NaN  \n",
       "16         NaN  \n",
       "17         NaN  \n",
       "23         NaN  \n",
       "24         NaN  "
      ],
      "text/html": "<div>\n<style scoped>\n    .dataframe tbody tr th:only-of-type {\n        vertical-align: middle;\n    }\n\n    .dataframe tbody tr th {\n        vertical-align: top;\n    }\n\n    .dataframe thead th {\n        text-align: right;\n    }\n</style>\n<table border=\"1\" class=\"dataframe\">\n  <thead>\n    <tr style=\"text-align: right;\">\n      <th></th>\n      <th>City</th>\n      <th>Country</th>\n      <th>Max Temp</th>\n      <th>Current Description</th>\n      <th>Lat</th>\n      <th>Lng</th>\n      <th>Hotel Name</th>\n    </tr>\n  </thead>\n  <tbody>\n    <tr>\n      <th>0</th>\n      <td>Hithadhoo</td>\n      <td>MV</td>\n      <td>27.96</td>\n      <td>overcast clouds</td>\n      <td>-0.6000</td>\n      <td>73.0833</td>\n      <td>NaN</td>\n    </tr>\n    <tr>\n      <th>4</th>\n      <td>Kloulklubed</td>\n      <td>PW</td>\n      <td>30.00</td>\n      <td>broken clouds</td>\n      <td>7.0419</td>\n      <td>134.2556</td>\n      <td>NaN</td>\n    </tr>\n    <tr>\n      <th>6</th>\n      <td>Georgetown</td>\n      <td>MY</td>\n      <td>31.00</td>\n      <td>few clouds</td>\n      <td>5.4112</td>\n      <td>100.3354</td>\n      <td>NaN</td>\n    </tr>\n    <tr>\n      <th>8</th>\n      <td>Atuona</td>\n      <td>PF</td>\n      <td>25.98</td>\n      <td>clear sky</td>\n      <td>-9.8000</td>\n      <td>-139.0333</td>\n      <td>NaN</td>\n    </tr>\n    <tr>\n      <th>12</th>\n      <td>Bathsheba</td>\n      <td>BB</td>\n      <td>26.00</td>\n      <td>scattered clouds</td>\n      <td>13.2167</td>\n      <td>-59.5167</td>\n      <td>NaN</td>\n    </tr>\n    <tr>\n      <th>15</th>\n      <td>Souillac</td>\n      <td>MU</td>\n      <td>25.00</td>\n      <td>scattered clouds</td>\n      <td>-20.5167</td>\n      <td>57.5167</td>\n      <td>NaN</td>\n    </tr>\n    <tr>\n      <th>16</th>\n      <td>Kathu</td>\n      <td>TH</td>\n      <td>29.00</td>\n      <td>few clouds</td>\n      <td>7.9178</td>\n      <td>98.3332</td>\n      <td>NaN</td>\n    </tr>\n    <tr>\n      <th>17</th>\n      <td>Neiafu</td>\n      <td>TO</td>\n      <td>27.00</td>\n      <td>light rain</td>\n      <td>-18.6500</td>\n      <td>-173.9833</td>\n      <td>NaN</td>\n    </tr>\n    <tr>\n      <th>23</th>\n      <td>Avarua</td>\n      <td>CK</td>\n      <td>29.00</td>\n      <td>few clouds</td>\n      <td>-21.2078</td>\n      <td>-159.7750</td>\n      <td>NaN</td>\n    </tr>\n    <tr>\n      <th>24</th>\n      <td>Butaritari</td>\n      <td>KI</td>\n      <td>27.13</td>\n      <td>light rain</td>\n      <td>3.0707</td>\n      <td>172.7902</td>\n      <td>NaN</td>\n    </tr>\n  </tbody>\n</table>\n</div>"
     },
     "metadata": {},
     "execution_count": 15
    }
   ],
   "source": [
    "# 5a. Create DataFrame called hotel_df to store hotel names along with city, country, max temp, and coordinates.\n",
    "hotel_df = clean_perferred_cities_df[[\"City\", \"Country\", \"Max Temp\", \"Current Description\", \"Lat\", \"Lng\"]].copy()\n",
    "\n",
    "# 5b. Create a new column \"Hotel Name\"\n",
    "hotel_df[\"Hotel Name\"] = np.nan\n",
    "hotel_df.head(10)\n"
   ]
  },
  {
   "cell_type": "code",
   "execution_count": 16,
   "metadata": {},
   "outputs": [
    {
     "output_type": "stream",
     "name": "stdout",
     "text": [
      "Hotel not found... skipping...\n",
      "Hotel not found... skipping...\n",
      "Hotel not found... skipping...\n",
      "Hotel not found... skipping...\n",
      "Hotel not found... skipping...\n",
      "Hotel not found... skipping...\n"
     ]
    }
   ],
   "source": [
    "# 6a. Set parameters to search for hotels with 5000 meters.\n",
    "params = {\n",
    "    \"radius\": 5000,\n",
    "    \"type\": \"lodging\",\n",
    "    \"key\": g_key\n",
    "}\n",
    "\n",
    "# 6b. Iterate through the hotel DataFrame.\n",
    "for index, row in hotel_df.iterrows():\n",
    "    # 6c. Get latitude and longitude from DataFrame\n",
    "    lat = row[\"Lat\"]\n",
    "    lng = row[\"Lng\"]\n",
    "    params[\"location\"] = f\"{lat},{lng}\"\n",
    "    \n",
    "    # 6d. Set up the base URL for the Google Directions API to get JSON data.\n",
    "    base_url = \"https://maps.googleapis.com/maps/api/place/nearbysearch/json?\"\n",
    "\n",
    "    # 6e. Make request and retrieve the JSON data from the search. \n",
    "    hotels = requests.get(base_url, params =params).json()\n",
    "    \n",
    "    # 6f. Get the first hotel from the results and store the name, if a hotel isn't found skip the city.\n",
    "    try:\n",
    "        hotel_df.loc[index,\"Hotel Name\"] = hotels[\"results\"][0][\"name\"]\n",
    "    except:\n",
    "        print(\"Hotel not found... skipping...\")\n",
    "        "
   ]
  },
  {
   "cell_type": "code",
   "execution_count": 22,
   "metadata": {},
   "outputs": [
    {
     "output_type": "execute_result",
     "data": {
      "text/plain": [
       "City                   149\n",
       "Country                149\n",
       "Max Temp               149\n",
       "Current Description    149\n",
       "Lat                    149\n",
       "Lng                    149\n",
       "Hotel Name             143\n",
       "dtype: int64"
      ]
     },
     "metadata": {},
     "execution_count": 22
    }
   ],
   "source": [
    "# 7. Drop the rows where there is no Hotel Name.\n",
    "hotel_df.count()\n",
    "\n"
   ]
  },
  {
   "cell_type": "code",
   "execution_count": 23,
   "metadata": {},
   "outputs": [
    {
     "output_type": "execute_result",
     "data": {
      "text/plain": [
       "City                   143\n",
       "Country                143\n",
       "Max Temp               143\n",
       "Current Description    143\n",
       "Lat                    143\n",
       "Lng                    143\n",
       "Hotel Name             143\n",
       "dtype: int64"
      ]
     },
     "metadata": {},
     "execution_count": 23
    }
   ],
   "source": [
    "hotel_df_clean = hotel_df.dropna()\n",
    "hotel_df_clean.count()"
   ]
  },
  {
   "cell_type": "code",
   "execution_count": 24,
   "metadata": {},
   "outputs": [],
   "source": [
    "# 8a. Create the output File (CSV)\n",
    "output_data_file = \"WeatherPy_vacation.csv\"\n",
    "# 8b. Export the City_Data into a csv\n",
    "hotel_df_clean.to_csv(output_data_file, index_label=\"City_ID\")"
   ]
  },
  {
   "cell_type": "code",
   "execution_count": 29,
   "metadata": {},
   "outputs": [],
   "source": [
    "# 9. Using the template add city name, the country code, the weather description and maximum temperature for the city.\n",
    "info_box_template = \"\"\"\n",
    "<dl>\n",
    "<dt>Hotel Name</dt><dd>{Hotel Name}</dd>\n",
    "<dt>City</dt><dd>{City}</dd>\n",
    "<dt>Country</dt><dd>{Country}</dd>\n",
    "<dt>Current Weather</dt><dd>{Current Description} and {Max Temp} °C</dd>\n",
    "</dl>\n",
    "\"\"\"\n",
    "\n",
    "# 10a. Get the data from each row and add it to the formatting template and store the data in a list.\n",
    "hotel_info = [info_box_template.format(**row) for index, row in hotel_df_clean.iterrows()]\n",
    "\n",
    "# 10b. Get the latitude and longitude from each row and store in a new DataFrame.\n",
    "locations = hotel_df_clean[[\"Lat\", \"Lng\"]]"
   ]
  },
  {
   "cell_type": "code",
   "execution_count": 30,
   "metadata": {},
   "outputs": [
    {
     "output_type": "display_data",
     "data": {
      "text/plain": "Figure(layout=FigureLayout(height='420px'))",
      "application/vnd.jupyter.widget-view+json": {
       "version_major": 2,
       "version_minor": 0,
       "model_id": "ff001ec3e5cd406a8d4e12f02c97d364"
      }
     },
     "metadata": {}
    }
   ],
   "source": [
    "# 11a. Add a marker layer for each city to the map. \n",
    "fig = gmaps.figure(center=(30.0,31.0), zoom_level=1.5)\n",
    "marker_layer = gmaps.marker_layer(locations, info_box_content=hotel_info)\n",
    "\n",
    "fig.add_layer(marker_layer)\n",
    "# 11b. Display the figure\n",
    "fig"
   ]
  },
  {
   "cell_type": "code",
   "execution_count": null,
   "metadata": {},
   "outputs": [],
   "source": []
  }
 ],
 "metadata": {
  "kernelspec": {
   "display_name": "PythonData",
   "language": "python",
   "name": "pythondata"
  },
  "language_info": {
   "codemirror_mode": {
    "name": "ipython",
    "version": 3
   },
   "file_extension": ".py",
   "mimetype": "text/x-python",
   "name": "python",
   "nbconvert_exporter": "python",
   "pygments_lexer": "ipython3",
   "version": "3.7.9-final"
  },
  "latex_envs": {
   "LaTeX_envs_menu_present": true,
   "autoclose": false,
   "autocomplete": true,
   "bibliofile": "biblio.bib",
   "cite_by": "apalike",
   "current_citInitial": 1,
   "eqLabelWithNumbers": true,
   "eqNumInitial": 1,
   "hotkeys": {
    "equation": "Ctrl-E",
    "itemize": "Ctrl-I"
   },
   "labels_anchors": false,
   "latex_user_defs": false,
   "report_style_numbering": false,
   "user_envs_cfg": false
  }
 },
 "nbformat": 4,
 "nbformat_minor": 2
}